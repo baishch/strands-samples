{
 "cells": [
  {
   "cell_type": "markdown",
   "id": "0a8ae942-d30e-40de-82b5-ddb87585282f",
   "metadata": {},
   "source": [
    "# Libraries"
   ]
  },
  {
   "cell_type": "markdown",
   "id": "a17b44fd-e882-433e-9c84-96c6659742b5",
   "metadata": {},
   "source": [
    "## Import"
   ]
  },
  {
   "cell_type": "code",
   "execution_count": 1,
   "id": "b126af9d",
   "metadata": {},
   "outputs": [],
   "source": [
    "# Libraries\n",
    "\n",
    "import sys\n",
    "sys.path.append('../data/ma-bench/')\n",
    "sys.path.append('../data/tau-bench/')\n",
    "\n",
    "import os\n",
    "import json\n",
    "import importlib\n",
    "import argparse\n",
    "\n",
    "import boto3\n",
    "from botocore.config import Config\n",
    "\n",
    "# Strands imports\n",
    "from strands import Agent, tool\n",
    "from strands.models import BedrockModel\n",
    "from strands.multiagent import GraphBuilder"
   ]
  },
  {
   "cell_type": "markdown",
   "id": "6a7fdb02-0eb3-40e4-a4ef-e6df04efc748",
   "metadata": {},
   "source": [
    "# Parameters"
   ]
  },
  {
   "cell_type": "code",
   "execution_count": null,
   "id": "24f1f104-4aa0-4451-a843-67c35526e151",
   "metadata": {
    "tags": []
   },
   "outputs": [],
   "source": [
    "# setup boto3 config to allow for retrying\n",
    "region_name = \"us-west-2\"\n",
    "my_config = Config(\n",
    "    region_name = region_name,\n",
    "    signature_version = 'v4',\n",
    "    retries = {\n",
    "        'max_attempts': 50,\n",
    "        'mode': 'standard'\n",
    "    }\n",
    ")\n",
    "\n",
    "# select domain\n",
    "domain = \"airline\"\n",
    "# # Parse command line arguments\n",
    "# parser = argparse.ArgumentParser(description='Run agent with specified domain')\n",
    "# parser.add_argument('--domain', type=str, default=domain, \n",
    "#                     help='Domain to use (e.g., \"airline\", \"retail\")')\n",
    "# args = parser.parse_args()\n",
    "\n",
    "# # Update domain if provided via command line\n",
    "# domain = args.domain"
   ]
  },
  {
   "cell_type": "markdown",
   "id": "69f3cb6c",
   "metadata": {},
   "source": [
    "# Utils"
   ]
  },
  {
   "cell_type": "code",
   "execution_count": null,
   "id": "2d34c2cb",
   "metadata": {},
   "outputs": [],
   "source": [
    "def import_domain_tools(domain):\n",
    "    \"\"\"\n",
    "    Dynamically import tools based on the domain\n",
    "    \"\"\"\n",
    "    tools_module = importlib.import_module(f'mabench.environments.{domain}.tools_strands')\n",
    "    tools_dict = {}\n",
    "    \n",
    "    # Get all attributes from the tools module\n",
    "    for attr_name in dir(tools_module):\n",
    "        if attr_name.startswith('__'):\n",
    "            continue\n",
    "        \n",
    "        try:\n",
    "            # Try to import each tool\n",
    "            tool_module = importlib.import_module(f'mabench.environments.{domain}.tools_strands.{attr_name}')\n",
    "            # Get the tool function from the module\n",
    "            if hasattr(tool_module, attr_name):\n",
    "                tools_dict[attr_name] = getattr(tool_module, attr_name)\n",
    "        except (ImportError, AttributeError):\n",
    "            pass\n",
    "    \n",
    "    return tools_dict"
   ]
  },
  {
   "cell_type": "code",
   "execution_count": null,
   "id": "a4b1fe3f",
   "metadata": {},
   "outputs": [
    {
     "name": "stdout",
     "output_type": "stream",
     "text": [
      "Successfully loaded modules for domain: airline\n"
     ]
    }
   ],
   "source": [
    "# Import domain-specific modules\n",
    "try:\n",
    "    # Import wiki\n",
    "    wiki_module = importlib.import_module(f'tau_bench.envs.{domain}.wiki')\n",
    "    WIKI = getattr(wiki_module, 'WIKI')\n",
    "    \n",
    "    # Import data and tasks\n",
    "    importlib.import_module(f'tau_bench.envs.{domain}.data')\n",
    "    importlib.import_module(f'tau_bench.envs.{domain}.tasks')\n",
    "    \n",
    "    # Import tools\n",
    "    domain_tools = import_domain_tools(domain)\n",
    "    \n",
    "    print(f\"Successfully loaded modules for domain: {domain}\")\n",
    "except ImportError as e:\n",
    "    print(f\"Error: Could not import modules for domain '{domain}'. Error: {e}\")\n",
    "    print(\"Available domains may include: airline, retail\")\n",
    "    sys.exit(1)"
   ]
  },
  {
   "cell_type": "markdown",
   "id": "674e2e89-13a5-409d-9606-09691ea48700",
   "metadata": {},
   "source": [
    "# Agent"
   ]
  },
  {
   "cell_type": "code",
   "execution_count": null,
   "id": "ac56f733-604a-4e7d-a1ac-a31c91785323",
   "metadata": {
    "tags": []
   },
   "outputs": [],
   "source": [
    "tools = list(domain_tools.values())\n",
    "\n",
    "def agent_prompt():\n",
    "    \n",
    "    system_prompt_template = \"\"\"\n",
    "You are a helpful assistant for a travel website. Help the user answer any questions.\n",
    "\n",
    "<instructions>\n",
    "- Remeber to check if the the airport city is in the state mentioned by the user. For example, Houston is in Texas.\n",
    "- Infer about the the U.S. state in which the airport city resides. For example, Houston is in Texas.\n",
    "- You should not use made-up or placeholder arguments.\n",
    "<instructions>\n",
    "\n",
    "<policy>\n",
    "{policy}\n",
    "</policy>\n",
    "\"\"\"\n",
    "\n",
    "    prompt = system_prompt_template.format(policy = WIKI)\n",
    "\n",
    "    return prompt\n",
    "\n",
    "\n",
    "def agent_model():\n",
    "\n",
    "    model_id = \"anthropic.claude-3-sonnet-20240229-v1:0\" # \"anthropic.claude-3-sonnet-20240229-v1:0\" \"anthropic.claude-3-5-sonnet-20240620-v1:0\", \"us.anthropic.claude-3-5-sonnet-20241022-v2:0\" \n",
    "\n",
    "    return BedrockModel(\n",
    "        model_id = model_id,\n",
    "        region_name = region_name,\n",
    "        max_tokens= 1024,\n",
    "        temperature = 0.0,\n",
    "        top_p = 1,\n",
    "        boto_client_config=my_config,\n",
    "    )\n",
    "\n",
    "\n",
    "def react_agent(tools):\n",
    "\n",
    "    prompt = agent_prompt()\n",
    "    model = agent_model()\n",
    "\n",
    "    return Agent( \n",
    "        model = model, \n",
    "        tools = tools, \n",
    "        system_prompt = prompt,\n",
    "    )"
   ]
  },
  {
   "cell_type": "markdown",
   "id": "60361654-f485-4182-bc43-d3e070b0f295",
   "metadata": {},
   "source": [
    "# Run"
   ]
  },
  {
   "cell_type": "code",
   "execution_count": 6,
   "id": "403bc0b8",
   "metadata": {},
   "outputs": [],
   "source": [
    "output_path = os.path.join(\"..\", \"data\", \"tau-bench\", \"tau_bench\", \"envs\", f\"{domain}\", \"tasks_singleturn.json\")\n",
    "with open(output_path, \"r\") as file:\n",
    "    tasks = json.load(file)\n"
   ]
  },
  {
   "cell_type": "code",
   "execution_count": null,
   "id": "d51b155c",
   "metadata": {},
   "outputs": [],
   "source": [
    "for index,task in enumerate(tasks):\n",
    "\n",
    "    index_str = str(index)\n",
    "    num_hashes = (50 - len(index_str) - 9) // 2\n",
    "    print(f\"\\n{'#' * num_hashes} Index:{index} {'#' * num_hashes}\\n\")\n",
    "\n",
    "    question = task['question']\n",
    "    print(f\"Processing question: {question}\")\n",
    "\n",
    "    # user = simulated_user(instruction)\n",
    "    agent = react_agent(tools)\n",
    "\n",
    "    messages = agent(question)\n",
    "    print(messages)\n",
    "\n",
    "    break"
   ]
  }
 ],
 "metadata": {
  "kernelspec": {
   "display_name": "Python 3",
   "language": "python",
   "name": "python3"
  },
  "language_info": {
   "codemirror_mode": {
    "name": "ipython",
    "version": 3
   },
   "file_extension": ".py",
   "mimetype": "text/x-python",
   "name": "python",
   "nbconvert_exporter": "python",
   "pygments_lexer": "ipython3",
   "version": "3.10.18"
  },
  "toc-autonumbering": true
 },
 "nbformat": 4,
 "nbformat_minor": 5
}
